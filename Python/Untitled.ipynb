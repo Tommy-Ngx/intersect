{
 "cells": [
  {
   "cell_type": "code",
   "execution_count": 1,
   "id": "537455c4-c3cf-4dfa-b241-d9e993efb9d9",
   "metadata": {},
   "outputs": [
    {
     "name": "stdout",
     "output_type": "stream",
     "text": [
      "\u001b[0m\u001b[01;34mMachine_Learning\u001b[0m/  \u001b[01;34mPYTHON101\u001b[0m/  \u001b[01;34mPYTHON203\u001b[0m/  Untitled.ipynb\n"
     ]
    }
   ],
   "source": [
    "ls"
   ]
  },
  {
   "cell_type": "code",
   "execution_count": 19,
   "id": "594be16d-6b7a-4513-9ada-1002b38011ee",
   "metadata": {},
   "outputs": [
    {
     "name": "stdout",
     "output_type": "stream",
     "text": [
      "[Errno 2] No such file or directory: '/R'\n",
      "/home\n"
     ]
    }
   ],
   "source": [
    "%cd "
   ]
  },
  {
   "cell_type": "code",
   "execution_count": 20,
   "id": "c643b72b-20f6-4963-b695-baef98c8ab28",
   "metadata": {},
   "outputs": [
    {
     "name": "stdout",
     "output_type": "stream",
     "text": [
      "\u001b[0m\u001b[01;34madnanyusuf\u001b[0m/               \u001b[01;34mkidanegebremariam\u001b[0m/\n",
      "\u001b[01;34magaudry\u001b[0m/                  \u001b[01;34mknallaperuma\u001b[0m/\n",
      "\u001b[01;34mamiramohamedattiaattia\u001b[0m/   \u001b[01;34mkzhai\u001b[0m/\n",
      "\u001b[01;34mamnaashfaq\u001b[0m/               \u001b[01;34mlaurarangelsanchez\u001b[0m/\n",
      "\u001b[01;34mangsarmanatuly\u001b[0m/           \u001b[01;34mmadysenaelbourne\u001b[0m/\n",
      "\u001b[01;34manhtuyenle\u001b[0m/               \u001b[01;34mmaisamkhorshidiptc\u001b[0m/\n",
      "\u001b[01;34mbehnaznouhibabajan\u001b[0m/       \u001b[01;34mmanchandaa45\u001b[0m/\n",
      "\u001b[01;34mbehnaznouhibabjan\u001b[0m/        \u001b[01;34mmanojkumar\u001b[0m/\n",
      "\u001b[01;34mbernadenesmore\u001b[0m/           \u001b[01;34mmariloumallari\u001b[0m/\n",
      "\u001b[01;34mbpneopanay\u001b[0m/               \u001b[01;34mmdunuarachchige\u001b[0m/\n",
      "\u001b[01;34mbuddhikaabeyrathna\u001b[0m/       \u001b[01;34mmingliangwu\u001b[0m/\n",
      "\u001b[01;34mcharlottefleming\u001b[0m/         \u001b[01;34mmohammadpourhassanmoghaddamghara\u001b[0m/\n",
      "\u001b[01;34mchenwang10\u001b[0m/               \u001b[01;34mmonamashhadirajabi\u001b[0m/\n",
      "\u001b[01;34mdaweisu\u001b[0m/                  \u001b[01;34mmrostamnezhadch\u001b[0m/\n",
      "\u001b[01;34mdeakin_python207_01\u001b[0m/      \u001b[01;34mmuniaahamed\u001b[0m/\n",
      "\u001b[01;34mdeakin_python207_02\u001b[0m/      \u001b[01;34mnavidyazdanjue\u001b[0m/\n",
      "\u001b[01;34mdeakin_python207_03\u001b[0m/      \u001b[01;34mnelle\u001b[0m/\n",
      "\u001b[01;34mdeakin_python207_04\u001b[0m/      \u001b[01;34mnorberthenseler\u001b[0m/\n",
      "\u001b[01;34mdeakin_python207_05\u001b[0m/      \u001b[01;34mpatrickrufangura\u001b[0m/\n",
      "\u001b[01;34mdeakin_python207_06\u001b[0m/      \u001b[01;34mqingshen1\u001b[0m/\n",
      "\u001b[01;34mdeakin_python207_07\u001b[0m/      \u001b[01;34mranamath06\u001b[0m/\n",
      "\u001b[01;34mdeakin_python207_08\u001b[0m/      \u001b[01;34mridhimawadhwa\u001b[0m/\n",
      "\u001b[01;34mdeakin_python207_09\u001b[0m/      \u001b[01;34ms223238446\u001b[0m/\n",
      "\u001b[01;34mdeakin_python207_10\u001b[0m/      \u001b[01;34msaralal\u001b[0m/\n",
      "\u001b[01;34mdennis\u001b[0m/                   \u001b[01;34msattarchavoshiborujeni\u001b[0m/\n",
      "\u001b[01;34mdinhtannguyen\u001b[0m/            \u001b[01;34mshajihabibi\u001b[0m/\n",
      "\u001b[01;34meerlania\u001b[0m/                 \u001b[01;34mshielonmuta\u001b[0m/\n",
      "\u001b[01;34meradahhabusabah\u001b[0m/          \u001b[01;34msuvashsaha\u001b[0m/\n",
      "\u001b[01;34mesmaeilebrahimie\u001b[0m/         \u001b[01;34mubuntu\u001b[0m/\n",
      "\u001b[01;34mfarnadnasirzadeh\u001b[0m/         \u001b[01;34muts_python205_01\u001b[0m/\n",
      "\u001b[01;34mguienmiao\u001b[0m/                \u001b[01;34muts_python205_02\u001b[0m/\n",
      "\u001b[01;34mhammedaakano\u001b[0m/             \u001b[01;34muts_python205_03\u001b[0m/\n",
      "\u001b[01;34mharithavh\u001b[0m/                \u001b[01;34muts_python205_04\u001b[0m/\n",
      "\u001b[01;34mholgercanciopaxialvarez\u001b[0m/  \u001b[01;34muts_python205_05\u001b[0m/\n",
      "\u001b[01;34mhuizhang\u001b[0m/                 \u001b[01;34muts_python205_06\u001b[0m/\n",
      "\u001b[01;34mimanrahimi64\u001b[0m/             \u001b[01;34muts_python205_07\u001b[0m/\n",
      "\u001b[01;34mirynakhodasevych\u001b[0m/         \u001b[01;34muts_python205_08\u001b[0m/\n",
      "\u001b[01;34mjerryliang\u001b[0m/               \u001b[01;34muts_python205_09\u001b[0m/\n",
      "\u001b[01;34mjiayilo\u001b[0m/                  \u001b[01;34muts_python205_10\u001b[0m/\n",
      "\u001b[01;34mjonathanrispler\u001b[0m/          \u001b[01;34mvictorialau\u001b[0m/\n",
      "\u001b[01;34mjonghyeonpark\u001b[0m/            \u001b[01;34mweili\u001b[0m/\n",
      "jupyterhub_cookie_secret  \u001b[01;34mwilliamcmak\u001b[0m/\n",
      "jupyterhub.sqlite         \u001b[01;34myujieliang1\u001b[0m/\n"
     ]
    }
   ],
   "source": [
    "ls"
   ]
  },
  {
   "cell_type": "code",
   "execution_count": null,
   "id": "53e64d9a-8e60-42f5-b4bd-655588db99a8",
   "metadata": {},
   "outputs": [],
   "source": []
  }
 ],
 "metadata": {
  "kernelspec": {
   "display_name": "Python 3",
   "language": "python",
   "name": "python3"
  },
  "language_info": {
   "codemirror_mode": {
    "name": "ipython",
    "version": 3
   },
   "file_extension": ".py",
   "mimetype": "text/x-python",
   "name": "python",
   "nbconvert_exporter": "python",
   "pygments_lexer": "ipython3",
   "version": "3.8.10"
  }
 },
 "nbformat": 4,
 "nbformat_minor": 5
}
